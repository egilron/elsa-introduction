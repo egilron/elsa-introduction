{
 "cells": [
  {
   "cell_type": "markdown",
   "metadata": {},
   "source": [
    "# Prepare data for ELSA evaluation\n",
    "After the data and annotatoins has been downloaded, we load a NER tagger, select the sample documents, and join the information into a dataframe with what we need for further analysis\n"
   ]
  },
  {
   "cell_type": "code",
   "execution_count": 1,
   "metadata": {},
   "outputs": [],
   "source": [
    "# Load my Norec-fine version\n",
    "import json\n",
    "import os\n",
    "import time\n",
    "from collections import Counter, defaultdict\n",
    "import numpy as np\n",
    "import random\n",
    "import pandas as pd\n",
    "import torch\n",
    "from helpers import *\n",
    "from transformers import  pipeline\n",
    "from tqdm import tqdm\n"
   ]
  },
  {
   "cell_type": "code",
   "execution_count": 2,
   "metadata": {},
   "outputs": [],
   "source": [
    "# Link to the data and create folder structure. Folder \"data\" should already exist\n",
    "\n",
    "\n",
    "save_root = \"outputs/\"\n",
    "tabular_savefolder = os.path.join(save_root, \"tabular\")\n",
    "os.makedirs(tabular_savefolder, exist_ok=True)\n",
    "printout_folder = os.path.join(save_root, \"printouts\")\n",
    "os.makedirs(printout_folder, exist_ok=True)\n",
    "data_cache = os.path.join(tabular_savefolder, \"data_sentencewise.json\")\n",
    "train_path = \"norec_tsa/tsa_conll/train.conll\" # Norec fine annotations in json version\n",
    "nrf_sents = conll_to_sents(train_path)\n",
    "model_path = 'saattrupdan/nbailab-base-ner-scandi'\n"
   ]
  },
  {
   "cell_type": "code",
   "execution_count": 3,
   "metadata": {},
   "outputs": [],
   "source": [
    "if not os.path.exists(data_cache):\n",
    "    # split header in doc_id and sent_id\n",
    "    for s in nrf_sents:\n",
    "        s[\"sent_id\"] = s[\"header\"].split(\"=\")[-1]\n",
    "        s[\"doc_id\"] = s[\"sent_id\"].split(\"-\")[0]\n",
    "        s[\"text\"] = \" \".join(s[\"tokens\"])\n",
    "\n",
    "    # Add more details about the tokens and the tsa targets\n",
    "    for s in nrf_sents:\n",
    "        token_details = token_data(s[\"text\"])\n",
    "        # Rebuild target spans\n",
    "        targets = [] # list of dicts, one for each target\n",
    "        new_target = {}\n",
    "        for t_details, tag in zip(token_details,s[\"tags\"]):\n",
    "            if tag.startswith(\"B\"):\n",
    "                if len(new_target) > 0:\n",
    "                    targets.append(new_target)\n",
    "                new_target = {\"polarity\": tag.split(\"-\")[-1], \n",
    "                            \"start_idx\" : t_details[\"start\"], \n",
    "                            \"end_idx\": t_details[\"end\"], \n",
    "                            \"text\":  t_details[\"token\"] }\n",
    "            if tag.startswith(\"I\"):\n",
    "                new_target[\"end_idx\"] = t_details[\"end\"]\n",
    "                new_target [\"text\"] += \" \"+t_details[\"token\"]\n",
    "            if tag == \"O\":\n",
    "                if len(new_target) > 0:\n",
    "                    targets.append(new_target)\n",
    "                new_target = {}\n",
    "        if len(new_target) > 0:\n",
    "            targets.append(new_target)      \n",
    "        s[\"tsa_details\"] = targets\n",
    "    with open(data_cache, \"w\", encoding = \"utf-8\") as wf:\n",
    "        json.dump(nrf_sents, wf, ensure_ascii=False)\n",
    "\n",
    "    \n",
    "\n",
    "    has_something = [s for s in nrf_sents if len(s[\"tsa_details\"]) > 1 ] #and s[\"header\"] == '#sent_id=003889-03-02']\n",
    "    #  'header': '#sent_id=003889-03-02',\n",
    "    # random.choice(has_something)\n"
   ]
  },
  {
   "cell_type": "markdown",
   "metadata": {},
   "source": [
    "## Inspect documents\n",
    "Now, we will pick some documents and check them:\n",
    "- How well are PER and ORG sentiment targets identified with NER?\n",
    "- How well does the sentiment expressed towards the NE as target correspond with the sentiment expressed towards the entity as a whole in the text?\n",
    "- Would Coreference resolution improve the sentiment aggregation?"
   ]
  },
  {
   "cell_type": "code",
   "execution_count": 4,
   "metadata": {},
   "outputs": [],
   "source": [
    "# train_ids = np.random.choice(df[df[\"folder\"]==\"train\"][\"file_id\"].unique(),50, replace=False)\n",
    "# print(json.dumps(list(train_ids)))\n",
    "inspect_ids = [\"300040\", \"107011\", \"201849\", \"301323\", \"106679\", \"109778\", \"004340\", \"102785\", \"105949\", \"109227\", \"101882\", \"601171\", \"107972\", \"103164\", \"003939\", \"702913\", \"201734\", \"300178\", \"003717\", \"600774\", \"500437\", \"704907\", \"200937\", \"109021\", \"501037\", \"302181\", \"702152\", \"103447\", \"702956\", \"100866\", \"202792\", \"602054\", \"302663\", \"201470\", \"004230\", \"110613\", \"702761\", \"001061\", \"300746\", \"102095\", \"304135\", \"100120\", \"105165\", \"501319\", \"500921\", \"305169\", \"200607\", \"108264\", \"111035\", \"107563\"]\n",
    "with open(os.path.join(tabular_savefolder, \"50docids.json\"), \"w\") as wf:\n",
    "    json.dump(inspect_ids, wf)"
   ]
  },
  {
   "cell_type": "markdown",
   "metadata": {},
   "source": [
    "## Define the NER model\n",
    "After experimenting with different aggregation strategies for how a named entity is labeled based og the subword classifications, we chose \"first\".\n",
    "Since the NER tagging takes a while, we reuse the data if stored in the json file."
   ]
  },
  {
   "cell_type": "markdown",
   "metadata": {},
   "source": [
    "### Get raw NER taggings for each sentence\n"
   ]
  },
  {
   "cell_type": "code",
   "execution_count": 5,
   "metadata": {},
   "outputs": [
    {
     "name": "stderr",
     "output_type": "stream",
     "text": [
      "100%|██████████| 8634/8634 [1:02:07<00:00,  2.32it/s]\n"
     ]
    }
   ],
   "source": [
    "ner_first = None # To save run time, only define if needed\n",
    "with open(data_cache, encoding = \"utf-8\") as rf:\n",
    "    dataset = json.load(rf)\n",
    "\n",
    "if not all([\"ner_firsts\" in sent for sent in dataset]):\n",
    "    ner_first = pipeline(task='ner', \n",
    "    model= model_path, \n",
    "    aggregation_strategy='first')\n",
    "\n",
    "for sent in tqdm(dataset):\n",
    "    if not \"ner_firsts\" in sent:\n",
    "        # Have not registered NER data for this before\n",
    "        sent[\"ner_firsts\"] = pred_ranges(ner_first(sent[\"text\"]))\n",
    "        \n",
    "with open(data_cache, \"w\", encoding = \"utf-8\") as wf:\n",
    "    json.dump(dataset, wf, ensure_ascii=False)\n",
    "\n",
    "nrf_sents = None #Reopen next time"
   ]
  },
  {
   "cell_type": "markdown",
   "metadata": {},
   "source": [
    "### Print the documents that are used as a help for inspection and manual annotation of each volitional entity in the dataset."
   ]
  },
  {
   "cell_type": "code",
   "execution_count": 7,
   "metadata": {},
   "outputs": [
    {
     "name": "stderr",
     "output_type": "stream",
     "text": [
      "100%|██████████| 50/50 [00:00<00:00, 69.47it/s]\n"
     ]
    }
   ],
   "source": [
    "# data_cache has target conll tags, and raw output for the NER tagging\n",
    "# The NER tagging may have re-tokenized do that the token indices are not the same anymore\n",
    "# Therefore we in stead use the start and end character indices, as that is what the NER output has\n",
    "\n",
    "with open(data_cache, encoding = \"utf-8\") as rf:\n",
    "    dataset = json.load(rf)\n",
    "\n",
    "for doc_id in tqdm(inspect_ids):\n",
    "    doc_raw = [s for s in dataset if s[\"doc_id\"] == doc_id ].copy()\n",
    "    doc_text = \"\\n\".join([s[\"text\"] for s in doc_raw])\n",
    "    nes = [] # all named entities recognized\n",
    "    tsa_spans = []\n",
    "\n",
    "    for sent in doc_raw:\n",
    "        sent_nes = [ne for ne in sent[\"ner_firsts\"] if ne[\"tag\"] in [\"PER\", \"ORG\"]]\n",
    "\n",
    "        tsa_spans += sent[\"tsa_details\"]\n",
    "        for ne in sent_nes:\n",
    "            ne[\"tsa_pol\"] = \"\"\n",
    "            ne_range = set(range(ne[\"start\"], ne[\"end\"]))\n",
    "            for tsa in  sent[\"tsa_details\"]:\n",
    "                if ne_range.intersection(range(tsa[\"start_idx\"], tsa[\"end_idx\"])):\n",
    "                    ne[\"tsa_pol\"] = tsa[\"polarity\"]\n",
    "        nes += sent_nes\n",
    "            \n",
    "    tsa_strings = [ str(tsa[\"polarity\"])+\" \"+tsa[\"text\"] for tsa in tsa_spans]\n",
    "    # tsa_strings.sort()\n",
    "    print_text = \"\\n\".join(tsa_strings)+\"\\n\" +\"\\n\".join([str(n) for n in nes])+\"\\n\"+ doc_text \n",
    "    with open ( os.path.join(printout_folder, doc_id+\"_print.txt\"), \"w\", encoding = \"utf-8\") as wf:\n",
    "        wf.write(print_text)\n",
    "\n"
   ]
  }
 ],
 "metadata": {
  "interpreter": {
   "hash": "63f766e18cf02043d406c2f113693a415f1494f09983f05ef5cfd3ee3ed0acbc"
  },
  "kernelspec": {
   "display_name": "Python 3.9.7 ('transform')",
   "language": "python",
   "name": "python3"
  },
  "language_info": {
   "codemirror_mode": {
    "name": "ipython",
    "version": 3
   },
   "file_extension": ".py",
   "mimetype": "text/x-python",
   "name": "python",
   "nbconvert_exporter": "python",
   "pygments_lexer": "ipython3",
   "version": "3.9.7"
  },
  "orig_nbformat": 4
 },
 "nbformat": 4,
 "nbformat_minor": 2
}

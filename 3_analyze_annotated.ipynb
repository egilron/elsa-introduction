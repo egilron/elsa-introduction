{
 "cells": [
  {
   "cell_type": "markdown",
   "metadata": {},
   "source": [
    "# Analyze the results from annotations\n",
    "Show agreements and disagreements between the annotated polarities and the document- sentence- and target- level annotations\n",
    "\n",
    "Note: This repositiry contains code that is being updated as the project is proceeding, and adjustments may have occured since the publishing of the ELSA paper"
   ]
  },
  {
   "cell_type": "code",
   "execution_count": 15,
   "metadata": {},
   "outputs": [],
   "source": [
    "import json\n",
    "import os\n",
    "import time\n",
    "from collections import Counter, defaultdict\n",
    "import numpy as np\n",
    "import random\n",
    "import pandas as pd\n",
    "import torch\n",
    "\n",
    "save_root = \"outputs/\"\n",
    "tabular_savefolder = os.path.join(save_root, \"tabular\")\n"
   ]
  },
  {
   "cell_type": "code",
   "execution_count": 20,
   "metadata": {},
   "outputs": [],
   "source": [
    "\n",
    "\n",
    "excel_path = os.path.join(tabular_savefolder,\"elsa_entities_annotated.xlsx\" )\n",
    "df = pd.read_excel(excel_path)\n",
    "df = df.loc[df[\"manual_pol\"]!=\"Spurious\"]\n",
    "\n",
    "doc_map = {1:\"Negative\", 2:\"Negative\", 3:\"Neutral\", 4:\"Neutral\", 5:\"Positive\", 6:\"Positive\"}\n",
    "df[\"doc_pol\"] = df[\"doc_rating\"].map(doc_map)\n",
    "doc_elsa = pd.pivot_table(df, index = [\"manual_pol\"], values = \"entity_id\", columns = \"doc_pol\", aggfunc='count')\n",
    "# Document-level polarity vs entity polarity\n",
    "hits = np.sum([doc_elsa.at[pol[:3], pol] for pol in [\"Negative\", \"Neutral\",\"Positive\"]])\n",
    "print(\"Document polarity vs entity polarity:\",hits, len(df), round(hits/len(df), 3))\n",
    "\n",
    "print(doc_elsa)\n",
    "doc_elsa.T.plot.bar(stacked=True)\n",
    "for c in doc_elsa.columns:\n",
    "    doc_elsa[c+\"_rel\"] = doc_elsa[c]/doc_elsa[c].sum()\n",
    "doc_elsa[[c for c in doc_elsa.columns if \"_rel\" in c]].T.plot.bar(stacked=True)\n"
   ]
  },
  {
   "cell_type": "code",
   "execution_count": 21,
   "metadata": {},
   "outputs": [
    {
     "name": "stdout",
     "output_type": "stream",
     "text": [
      "Document polarity vs entity polarity: 133 281 0.473\n",
      "doc_pol     Negative  Neutral  Positive\n",
      "manual_pol                             \n",
      "Neg               15        8         5\n",
      "Neu               29       66        75\n",
      "Pos                3       26        52\n"
     ]
    },
    {
     "data": {
      "text/plain": [
       "<AxesSubplot:xlabel='doc_pol'>"
      ]
     },
     "execution_count": 21,
     "metadata": {},
     "output_type": "execute_result"
    },
    {
     "data": {
      "image/png": "[encoded data removed]",
      "text/plain": [
       "<Figure size 432x288 with 1 Axes>"
      ]
     },
     "metadata": {
      "needs_background": "light"
     },
     "output_type": "display_data"
    },
    {
     "data": {
      "image/png": "[encoded data removed]",
      "text/plain": [
       "<Figure size 432x288 with 1 Axes>"
      ]
     },
     "metadata": {
      "needs_background": "light"
     },
     "output_type": "display_data"
    }
   ],
   "source": []
  },
  {
   "cell_type": "code",
   "execution_count": 18,
   "metadata": {},
   "outputs": [
    {
     "ename": "IndentationError",
     "evalue": "expected an indented block (1688109955.py, line 9)",
     "output_type": "error",
     "traceback": [
      "\u001b[0;36m  File \u001b[0;32m\"/tmp/ipykernel_12124/1688109955.py\"\u001b[0;36m, line \u001b[0;32m9\u001b[0m\n\u001b[0;31m    list(df.columns)\u001b[0m\n\u001b[0m                    ^\u001b[0m\n\u001b[0;31mIndentationError\u001b[0m\u001b[0;31m:\u001b[0m expected an indented block\n"
     ]
    }
   ],
   "source": [
    "# Sentence polarity\n",
    "df.head(20)\n",
    "sent_vs_entity = []\n",
    "for i, row in df.iterrows():\n",
    "    entity_pol = row[\"manual_pol\"]\n",
    "    for sent_pol in row[\"sentences_pol\"]:\n",
    "        \n",
    "    \n",
    "list(df.columns)"
   ]
  }
 ],
 "metadata": {
  "kernelspec": {
   "display_name": "Python 3.9.7 ('phdev')",
   "language": "python",
   "name": "python3"
  },
  "language_info": {
   "codemirror_mode": {
    "name": "ipython",
    "version": 3
   },
   "file_extension": ".py",
   "mimetype": "text/x-python",
   "name": "python",
   "nbconvert_exporter": "python",
   "pygments_lexer": "ipython3",
   "version": "3.9.7"
  },
  "orig_nbformat": 4,
  "vscode": {
   "interpreter": {
    "hash": "700a218f876b011520bcab0bf4c4fd60938a4cf5c91c77ab574cb3838b05995c"
   }
  }
 },
 "nbformat": 4,
 "nbformat_minor": 2
}

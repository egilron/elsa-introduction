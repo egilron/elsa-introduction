{
 "cells": [
  {
   "cell_type": "code",
   "execution_count": null,
   "metadata": {},
   "outputs": [],
   "source": []
  },
  {
   "cell_type": "code",
   "execution_count": 1,
   "metadata": {},
   "outputs": [],
   "source": [
    "import json\n",
    "import os\n",
    "import time\n",
    "from collections import Counter, defaultdict\n",
    "import numpy as np\n",
    "import random\n",
    "import pandas as pd\n",
    "from helpers import *\n",
    "from tqdm import tqdm\n",
    "from seqeval.metrics import classification_report"
   ]
  },
  {
   "cell_type": "code",
   "execution_count": 3,
   "metadata": {},
   "outputs": [],
   "source": [
    "data_cache = \"data/nrc_fine_json/train_ner.json\"\n",
    "meta_path = \"norec/data/metadata.json\"\n",
    "sentence_pol_dataset_path = \"norec_sentence/3class/train.json\"\n",
    "\n",
    "save_root = \"outputs/\"\n",
    "tabular_savefolder = os.path.join(save_root, \"tabular\")\n",
    "os.makedirs(tabular_savefolder, exist_ok=True)\n",
    "printout_folder = os.path.join(save_root, \"printouts\")\n",
    "os.makedirs(printout_folder, exist_ok=True)\n",
    "data_cache = os.path.join(tabular_savefolder, \"data_sentencewise.json\")"
   ]
  },
  {
   "cell_type": "code",
   "execution_count": 4,
   "metadata": {},
   "outputs": [
    {
     "ename": "NameError",
     "evalue": "name 'inspect_ids' is not defined",
     "output_type": "error",
     "traceback": [
      "\u001b[0;31m---------------------------------------------------------------------------\u001b[0m",
      "\u001b[0;31mNameError\u001b[0m                                 Traceback (most recent call last)",
      "\u001b[0;32m/tmp/ipykernel_5647/2440328347.py\u001b[0m in \u001b[0;36m<module>\u001b[0;34m\u001b[0m\n\u001b[1;32m      9\u001b[0m \u001b[0;34m\u001b[0m\u001b[0m\n\u001b[1;32m     10\u001b[0m \u001b[0mratings\u001b[0m \u001b[0;34m=\u001b[0m \u001b[0;34m[\u001b[0m\u001b[0;34m]\u001b[0m\u001b[0;34m\u001b[0m\u001b[0;34m\u001b[0m\u001b[0m\n\u001b[0;32m---> 11\u001b[0;31m \u001b[0;32mfor\u001b[0m \u001b[0mdoc_id\u001b[0m \u001b[0;32min\u001b[0m \u001b[0minspect_ids\u001b[0m\u001b[0;34m:\u001b[0m\u001b[0;34m\u001b[0m\u001b[0;34m\u001b[0m\u001b[0m\n\u001b[0m\u001b[1;32m     12\u001b[0m     \u001b[0msentences\u001b[0m \u001b[0;34m=\u001b[0m \u001b[0mlen\u001b[0m\u001b[0;34m(\u001b[0m\u001b[0;34m[\u001b[0m\u001b[0ms\u001b[0m \u001b[0;32mfor\u001b[0m \u001b[0ms\u001b[0m \u001b[0;32min\u001b[0m \u001b[0mdataset\u001b[0m \u001b[0;32mif\u001b[0m \u001b[0ms\u001b[0m\u001b[0;34m[\u001b[0m\u001b[0;34m\"sent_id\"\u001b[0m\u001b[0;34m]\u001b[0m\u001b[0;34m[\u001b[0m\u001b[0;34m:\u001b[0m\u001b[0;36m6\u001b[0m\u001b[0;34m]\u001b[0m \u001b[0;34m==\u001b[0m \u001b[0mdoc_id\u001b[0m\u001b[0;34m]\u001b[0m\u001b[0;34m)\u001b[0m\u001b[0;34m\u001b[0m\u001b[0;34m\u001b[0m\u001b[0m\n\u001b[1;32m     13\u001b[0m     ratings.append({\"doc_id\": doc_id, \"rating\": str(meta[doc_id][\"rating\"] ), \"category\": meta[doc_id][\"category\"],\n",
      "\u001b[0;31mNameError\u001b[0m: name 'inspect_ids' is not defined"
     ]
    }
   ],
   "source": [
    "# Get the metadata for document-level\n",
    "\n",
    "with open(data_cache, encoding = \"utf-8\") as rf:\n",
    "    dataset = json.load(rf)\n",
    "\n",
    "with open (meta_path) as rf:\n",
    "    meta = json.load(rf)\n",
    "\n",
    "inspect_ids = list(set([s[\"doc_id\"] for s in dataset]))\n",
    "\n",
    "ratings = []\n",
    "for doc_id in inspect_ids:\n",
    "    sentences = len([s for s in dataset if s[\"sent_id\"][:6] == doc_id])\n",
    "    ratings.append({\"doc_id\": doc_id, \"rating\": str(meta[doc_id][\"rating\"] ), \"category\": meta[doc_id][\"category\"],\n",
    "        \"sentences\": sentences})\n",
    "doc_level = pd.DataFrame(ratings)\n",
    "cat_rating = []\n",
    "for  category, cat_group in doc_level.groupby(\"category\"):\n",
    "    cat_rat = {rat: len(subgroup) for rat, subgroup in cat_group.groupby(\"rating\")}\n",
    "    cat_rat[\"category\"] = category\n",
    "    cat_rating.append(cat_rat)\n",
    "df_cat_rat = pd.DataFrame.from_records(cat_rating).fillna(0)\n",
    "\n",
    "\n",
    "doc_level.to_csv(os.path.join(tabular_savefolder,\"doc_meta_50.csv\"), sep=\"\\t\", decimal=\",\")\n",
    "doc_level.head(3)"
   ]
  },
  {
   "cell_type": "code",
   "execution_count": null,
   "metadata": {},
   "outputs": [],
   "source": [
    "with open(sentence_pol_dataset_path, encoding = \"utf-8\") as rf:\n",
    "    sentence_pol_dataset = json.load(rf)\n",
    "sentence_polarities = { e['sent_id']: e['label'] for e in sentence_pol_dataset}"
   ]
  },
  {
   "cell_type": "code",
   "execution_count": null,
   "metadata": {},
   "outputs": [],
   "source": [
    "# Create new printout \n",
    "# Get the die pips and category for the fifty\n",
    "meta_path = \"data/nrc_fine_json/metadata.json\"\n",
    "with open (meta_path) as rf:\n",
    "    meta = json.load(rf)\n",
    "nes= [] # One line for each NE\n",
    "#    ratings.append({\"doc_id\": doc_id, \"rating\":meta[doc_id][\"rating\"] , \"category\": meta[doc_id][\"category\"]})\n",
    "tsa_unmatched = [] # list the tsas not matched bu any NE\n",
    "for sent in dataset: # Previous cell\n",
    "    doc_id = sent[\"sent_id\"].split(\"-\")[0]\n",
    "    if not doc_id in inspect_ids:\n",
    "        continue\n",
    "    targets = sent[\"targets_resolved\"].copy()\n",
    "    sent_nes = [ne for ne in sent[\"ner_firsts\"] if ne[\"tag\"] in [\"PER\", \"ORG\"]]\n",
    "    for ne in sent_nes:\n",
    "        ne[\"tsa_pol\"] = None\n",
    "        ne_range = set(range(ne[\"start\"], ne[\"end\"]))\n",
    "        for tsa_range in  targets:\n",
    "            resolved_start, resolved_end = element_extremes([tsa_range])\n",
    "            if ne_range.intersection(range(resolved_start, resolved_end)):\n",
    "                ne[\"tsa_pol\"] = targets.pop(tsa_range) # Maybe a bit harsh to allow only one match Yes. Must be change. But now I have annotated on the output of this fine\n",
    "                break\n",
    "\n",
    "        nes.append({\"doc_id\":doc_id,\n",
    "            \"rating\":meta[doc_id][\"rating\"] , \n",
    "            \"category\": meta[doc_id][\"category\"] ,\n",
    "            \"sent_id\": sent[\"sent_id\"] ,\n",
    "            'sentence_pol': sent['sentence_pol'],\n",
    "            \"ne_text\": ne[\"text\"] ,\n",
    "            \"ne_tag\": ne[\"tag\"],\n",
    "            \"ne_tsa\": ne[\"tsa_pol\"]\n",
    "            })\n",
    "    for tsa_range in targets:\n",
    "        resolved_start, resolved_end = element_extremes([tsa_range])\n",
    "        tsa_unmatched.append({\"doc_id\":doc_id,\n",
    "            \"rating\":meta[doc_id][\"rating\"] , \n",
    "            \"category\": meta[doc_id][\"category\"] ,\n",
    "            \"sent_id\": sent[\"sent_id\"] ,\n",
    "            'sentence_pol': sent['sentence_pol'],\n",
    "            \"tsa_word\": sent[\"text\"][resolved_start: resolved_end ], \n",
    "            \"tsa_pol\": targets[tsa_range]\n",
    "        })\n",
    "\n",
    "joined_df = pd.DataFrame(nes).append(pd.DataFrame(tsa_unmatched), ignore_index = True)\n",
    "print(joined_df.head(5))\n",
    "print(joined_df.tail(5))"
   ]
  }
 ],
 "metadata": {
  "kernelspec": {
   "display_name": "Python 3.9.7 ('transform')",
   "language": "python",
   "name": "python3"
  },
  "language_info": {
   "codemirror_mode": {
    "name": "ipython",
    "version": 3
   },
   "file_extension": ".py",
   "mimetype": "text/x-python",
   "name": "python",
   "nbconvert_exporter": "python",
   "pygments_lexer": "ipython3",
   "version": "3.9.7"
  },
  "orig_nbformat": 4,
  "vscode": {
   "interpreter": {
    "hash": "63f766e18cf02043d406c2f113693a415f1494f09983f05ef5cfd3ee3ed0acbc"
   }
  }
 },
 "nbformat": 4,
 "nbformat_minor": 2
}
